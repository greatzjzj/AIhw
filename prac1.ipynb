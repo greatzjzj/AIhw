{
 "cells": [
  {
   "cell_type": "markdown",
   "metadata": {},
   "source": [
    "# Introduction to Artificial intelligence for Non Computing "
   ]
  },
  {
   "cell_type": "markdown",
   "metadata": {},
   "source": [
    "## Practical 1"
   ]
  },
  {
   "cell_type": "markdown",
   "metadata": {},
   "source": [
    "1\\. Create a list of 5 fruits (make sure to include an apple)."
   ]
  },
  {
   "cell_type": "code",
   "execution_count": 1,
   "metadata": {},
   "outputs": [
    {
     "name": "stdout",
     "output_type": "stream",
     "text": [
      "['apple', 'banana', 'orange', 'peach', 'pear']\n"
     ]
    }
   ],
   "source": [
    " ## write your answer here!\n",
    "fruits=['apple','banana','orange','peach','pear']\n",
    "print(fruits)"
   ]
  },
  {
   "cell_type": "markdown",
   "metadata": {},
   "source": [
    "2\\. Go through each fruit and check if it is an apple. If it is, print out \"I found it!\". If it's not an apple, do nothing."
   ]
  },
  {
   "cell_type": "code",
   "execution_count": 2,
   "metadata": {},
   "outputs": [
    {
     "name": "stdout",
     "output_type": "stream",
     "text": [
      "I found it!\n"
     ]
    }
   ],
   "source": [
    " ## write your answer here!\n",
    "for fruit in fruits :\n",
    "    if fruit == 'apple':\n",
    "        print ('I found it!')"
   ]
  },
  {
   "cell_type": "markdown",
   "metadata": {},
   "source": [
    "3\\. Add two new fruits to your list."
   ]
  },
  {
   "cell_type": "code",
   "execution_count": 3,
   "metadata": {},
   "outputs": [
    {
     "name": "stdout",
     "output_type": "stream",
     "text": [
      "['apple', 'banana', 'orange', 'peach', 'pear', 'kiwi', 'mandarin']\n"
     ]
    }
   ],
   "source": [
    " ## write your answer here!\n",
    "fruits.append('kiwi')\n",
    "fruits.append('mandarin')\n",
    "print (fruits)"
   ]
  },
  {
   "cell_type": "markdown",
   "metadata": {},
   "source": [
    "4\\. Create a new empty list. Go through your list of fruits, and for each one, add an entry to the new list that tells us how many letters each fruit name is."
   ]
  },
  {
   "cell_type": "code",
   "execution_count": 4,
   "metadata": {},
   "outputs": [
    {
     "name": "stdout",
     "output_type": "stream",
     "text": [
      "apple has 5 letters\n",
      "banana has 6 letters\n",
      "orange has 6 letters\n",
      "peach has 5 letters\n",
      "pear has 4 letters\n",
      "kiwi has 4 letters\n",
      "mandarin has 8 letters\n"
     ]
    }
   ],
   "source": [
    " ## write your answer here!\n",
    "empList=[]\n",
    "for fruit in fruits:\n",
    "    letterNum=len(fruit)\n",
    "    empList.append(letterNum)\n",
    "    print('{} has {} letters'.format(fruit,letterNum))"
   ]
  },
  {
   "cell_type": "markdown",
   "metadata": {},
   "source": [
    "5\\. Make a function called half_squared that takes a list and returns a new list where each element of the original is squared and then divided in half."
   ]
  },
  {
   "cell_type": "code",
   "execution_count": 5,
   "metadata": {},
   "outputs": [],
   "source": [
    " ## write your answer here!\n",
    "def half_squared(list):\n",
    "    newList=[]\n",
    "    for entry in list:\n",
    "        newEntry=entry*entry/2\n",
    "        newList.append(newEntry)\n",
    "    return newList\n",
    "    \n",
    "    "
   ]
  },
  {
   "cell_type": "code",
   "execution_count": 6,
   "metadata": {},
   "outputs": [
    {
     "data": {
      "text/plain": [
       "True"
      ]
     },
     "execution_count": 6,
     "metadata": {},
     "output_type": "execute_result"
    }
   ],
   "source": [
    "## test the function\n",
    "half_squared([3,3]) == [4.5,4.5]\n",
    "#print (half_squared([3,3]))\n"
   ]
  },
  {
   "cell_type": "markdown",
   "metadata": {},
   "source": [
    "6\\.   Read the following program:"
   ]
  },
  {
   "cell_type": "code",
   "execution_count": 7,
   "metadata": {},
   "outputs": [
    {
     "name": "stdout",
     "output_type": "stream",
     "text": [
      "input first number: 1\n",
      "input second number: 9\n",
      "9\n"
     ]
    }
   ],
   "source": [
    "a = int(input(\"input first number: \"))\n",
    "b = int(input(\"input second number: \"))\n",
    "if(a > b):\n",
    "    print(a)\n",
    "else:\n",
    "    print(b)"
   ]
  },
  {
   "cell_type": "markdown",
   "metadata": {},
   "source": [
    "What does the following program print? And you can input two number in the program to verify your answer. What does the program do???"
   ]
  },
  {
   "cell_type": "markdown",
   "metadata": {},
   "source": [
    "Now practice writing a program that takes as input some students scores and then outputs a grade (A, B, C). \n",
    "\n",
    "If scores >=90 points are represented by A, 60-89 points are represented by B, and 60 points or less are indicated by C.\n",
    "\n",
    "If the input student score is less than 0 greater than 100, make an error message for the user.\n",
    "\n",
    "You can look at the following links to see how other people have writen similar programs: https://study.163.com/course/courseLearn.htm?courseId=1004987028#/learn/live?lessonId=1051260552&courseId=1004987028"
   ]
  },
  {
   "cell_type": "code",
   "execution_count": 8,
   "metadata": {},
   "outputs": [
    {
     "name": "stdout",
     "output_type": "stream",
     "text": [
      "please input your scores88\n",
      "B\n"
     ]
    }
   ],
   "source": [
    "## write your program here\n",
    "a=int(input('please input your scores'))\n",
    "if a<0 or a>100:\n",
    "    print('scores invalid,please try again')\n",
    "else:\n",
    "    if a>=90:\n",
    "        print('A')\n",
    "    elif a>60:\n",
    "        print('B')\n",
    "    else:\n",
    "        print('C')"
   ]
  },
  {
   "cell_type": "markdown",
   "metadata": {},
   "source": [
    "7\\. Read the following program "
   ]
  },
  {
   "cell_type": "code",
   "execution_count": 9,
   "metadata": {},
   "outputs": [],
   "source": [
    "def exchange(a,b):\n",
    "    c = a\n",
    "    a = b\n",
    "    b = c\n",
    "    return a,b"
   ]
  },
  {
   "cell_type": "markdown",
   "metadata": {},
   "source": [
    "This program is an example of writing a function,it takes two variables a and b in that order and returns them as a tuple in reversed order (b,a). \n",
    "\n",
    "Once a function is declared it can be used in other code:"
   ]
  },
  {
   "cell_type": "code",
   "execution_count": 10,
   "metadata": {},
   "outputs": [
    {
     "data": {
      "text/plain": [
       "(20, 10)"
      ]
     },
     "execution_count": 10,
     "metadata": {},
     "output_type": "execute_result"
    }
   ],
   "source": [
    "exchange(10,20)"
   ]
  },
  {
   "cell_type": "markdown",
   "metadata": {},
   "source": [
    "Python code can be writen very concisely, for example the following is an alternative way to write the same program:"
   ]
  },
  {
   "cell_type": "code",
   "execution_count": 11,
   "metadata": {},
   "outputs": [],
   "source": [
    "def exchange(a,b):\n",
    "    a,b=b,a\n",
    "    return a,b"
   ]
  },
  {
   "cell_type": "code",
   "execution_count": 12,
   "metadata": {},
   "outputs": [
    {
     "data": {
      "text/plain": [
       "(20, 10)"
      ]
     },
     "execution_count": 12,
     "metadata": {},
     "output_type": "execute_result"
    }
   ],
   "source": [
    "exchange(10,20)"
   ]
  },
  {
   "cell_type": "markdown",
   "metadata": {},
   "source": [
    "Now using what we just learned try to write a program to take 3 numbers as input and sort them from large to small.\n",
    "\n",
    "For example  $revSort(12, 4, 32)$ will return (32, 12, 4)"
   ]
  },
  {
   "cell_type": "code",
   "execution_count": 13,
   "metadata": {},
   "outputs": [
    {
     "name": "stdout",
     "output_type": "stream",
     "text": [
      "please enter the first number: 1\n",
      "please enter the second number: 8\n",
      "please enter the third number: 35\n",
      "35 8 1\n"
     ]
    }
   ],
   "source": [
    "## write your code here\n",
    "def revSort(num1,num2,num3):\n",
    "    if num1<num2:\n",
    "        num1,num2=num2,num1\n",
    "    if num1<num3:\n",
    "        num1,num3=num3,num1    \n",
    "    if num2<num3:\n",
    "        num2,num3=num3,num2  \n",
    "    print (num1,num2,num3)\n",
    "    \n",
    "a=int(input('please enter the first number: '))\n",
    "b=int(input('please enter the second number: '))\n",
    "c=int(input('please enter the third number: '))\n",
    "revSort(a,b,c)"
   ]
  },
  {
   "cell_type": "markdown",
   "metadata": {},
   "source": [
    "8\\.Read the following program"
   ]
  },
  {
   "cell_type": "code",
   "execution_count": 14,
   "metadata": {},
   "outputs": [],
   "source": [
    "list1 = [1,2,3]\n",
    "list2 = [4,5,6]\n",
    "array = [list1,list2]"
   ]
  },
  {
   "cell_type": "code",
   "execution_count": 15,
   "metadata": {},
   "outputs": [
    {
     "data": {
      "text/plain": [
       "[[1, 2, 3], [4, 5, 6]]"
      ]
     },
     "execution_count": 15,
     "metadata": {},
     "output_type": "execute_result"
    }
   ],
   "source": [
    "array"
   ]
  },
  {
   "cell_type": "markdown",
   "metadata": {},
   "source": [
    "we have created a two-dimensional array through the above progrem,can you traverse this two-dimensional array?\n",
    "For example $arrs = [[1,2,3],[4,5,6]]$ will return 1 2 3 4 5 6"
   ]
  },
  {
   "cell_type": "code",
   "execution_count": 16,
   "metadata": {},
   "outputs": [
    {
     "name": "stdout",
     "output_type": "stream",
     "text": [
      "1 2 3 4 5 6 "
     ]
    }
   ],
   "source": [
    "## write your program here\n",
    "list2d = [[1,2,3],[4,5,6]]\n",
    "for i in range(len(list2d)):\n",
    "    for j in (list2d[i]):\n",
    "        print (j,end=' ')"
   ]
  },
  {
   "cell_type": "markdown",
   "metadata": {},
   "source": [
    "9\\. Read the following program"
   ]
  },
  {
   "cell_type": "code",
   "execution_count": 17,
   "metadata": {},
   "outputs": [
    {
     "name": "stdout",
     "output_type": "stream",
     "text": [
      "2\n",
      "4\n",
      "6\n",
      "8\n"
     ]
    }
   ],
   "source": [
    "a = [1,2,3,4]\n",
    "def f(x):\n",
    "    return x*2  #it is means 1*2 2*2 3*2 4*2\n",
    "for i in map(f,a):\n",
    "    print(i)"
   ]
  },
  {
   "cell_type": "code",
   "execution_count": 18,
   "metadata": {
    "scrolled": true
   },
   "outputs": [
    {
     "name": "stdout",
     "output_type": "stream",
     "text": [
      "1\n",
      "4\n",
      "9\n",
      "16\n"
     ]
    }
   ],
   "source": [
    "a = [1,2,3,4]\n",
    "def f(x):\n",
    "    return x**2  #it is means 1^2 2^2 3^2 4^2\n",
    "for i in map(f,a):\n",
    "    print(i)\n"
   ]
  },
  {
   "cell_type": "markdown",
   "metadata": {},
   "source": [
    "look at above program,it will be userful for your to writing a program.it's a good program to explaination the map function"
   ]
  },
  {
   "cell_type": "markdown",
   "metadata": {},
   "source": [
    "Observe the following phenomenon: calulate the cube of some number (e.g., 1, 8, 17) , the sum of all digits in this cube equals to the number itself.（the max num is 100,and you should use the map function from above）\n",
    "- 1^3 = 1\n",
    "- 8^3  = 512  ->   5+1+2=8\n",
    "- 17^3 = 4913 ->   4+9+1+3=17"
   ]
  },
  {
   "cell_type": "code",
   "execution_count": 19,
   "metadata": {},
   "outputs": [
    {
     "name": "stdout",
     "output_type": "stream",
     "text": [
      "1\n",
      "8\n",
      "17\n",
      "18\n",
      "26\n",
      "27\n"
     ]
    }
   ],
   "source": [
    "## write your program here\n",
    "def f(x):\n",
    "    return x**3\n",
    "a=[]\n",
    "for i in range(1,101):\n",
    "    a.append(i)\n",
    "    count=0\n",
    "for j in map(f,a):\n",
    "    sum=0\n",
    "    for i in range(len(str(j))):\n",
    "        sum+=int(str(j)[i])  \n",
    "    if a[count]==sum:\n",
    "        print(sum)\n",
    "    count+=1\n",
    "    \n",
    "    \n"
   ]
  },
  {
   "cell_type": "markdown",
   "metadata": {},
   "source": [
    "10\\. Read the following program"
   ]
  },
  {
   "cell_type": "code",
   "execution_count": 20,
   "metadata": {},
   "outputs": [
    {
     "name": "stdout",
     "output_type": "stream",
     "text": [
      "5\n"
     ]
    }
   ],
   "source": [
    "import random\n",
    "x = random.randint(3,9)\n",
    "print(x)"
   ]
  },
  {
   "cell_type": "code",
   "execution_count": 21,
   "metadata": {},
   "outputs": [
    {
     "name": "stdout",
     "output_type": "stream",
     "text": [
      "7\n"
     ]
    }
   ],
   "source": [
    "import random\n",
    "x = random.randint(3,9)\n",
    "print(x)"
   ]
  },
  {
   "cell_type": "code",
   "execution_count": 22,
   "metadata": {},
   "outputs": [
    {
     "name": "stdout",
     "output_type": "stream",
     "text": [
      "3.7227707242017436\n"
     ]
    }
   ],
   "source": [
    "import random\n",
    "x = random.uniform(3,8)\n",
    "print(x)"
   ]
  },
  {
   "cell_type": "markdown",
   "metadata": {},
   "source": [
    "they are the same code but you can get different result by using the random module"
   ]
  },
  {
   "cell_type": "markdown",
   "metadata": {},
   "source": [
    "Use the random module to generate two random integers x, y (1-10) and print them value, then exchange them value each other,and print them."
   ]
  },
  {
   "cell_type": "code",
   "execution_count": 23,
   "metadata": {},
   "outputs": [
    {
     "name": "stdout",
     "output_type": "stream",
     "text": [
      "x:3 y:5\n",
      "x:5 y:3\n"
     ]
    }
   ],
   "source": [
    "## write your program here\n",
    "import random\n",
    "x=random.randint(1,10)\n",
    "y=random.randint(1,10)\n",
    "print('x:{} y:{}'.format(x,y))\n",
    "x,y = y,x\n",
    "print('x:{} y:{}'.format(x,y))"
   ]
  },
  {
   "cell_type": "markdown",
   "metadata": {},
   "source": [
    "11\\. Read the following program"
   ]
  },
  {
   "cell_type": "code",
   "execution_count": 24,
   "metadata": {},
   "outputs": [
    {
     "name": "stdout",
     "output_type": "stream",
     "text": [
      "   *   \n"
     ]
    }
   ],
   "source": [
    "print(\"   *   \")"
   ]
  },
  {
   "cell_type": "markdown",
   "metadata": {},
   "source": [
    "we can print space use the print function"
   ]
  },
  {
   "cell_type": "markdown",
   "metadata": {},
   "source": [
    "Please look at the following rules, code output,you can just use the print() without othething,but we will give the loop nesting code to print the diamond."
   ]
  },
  {
   "cell_type": "code",
   "execution_count": 25,
   "metadata": {},
   "outputs": [],
   "source": [
    "#     *\n",
    "#    ***\n",
    "#   *****\n",
    "#  *******\n",
    "#   *****\n",
    "#    ***\n",
    "#     *\n"
   ]
  },
  {
   "cell_type": "code",
   "execution_count": 26,
   "metadata": {},
   "outputs": [
    {
     "name": "stdout",
     "output_type": "stream",
     "text": [
      "Please tell me the size of diamond you want,it must be an odd number (for example:7):  9\n",
      "    *    \n",
      "   ***   \n",
      "  *****  \n",
      " ******* \n",
      "*********\n",
      " ******* \n",
      "  *****  \n",
      "   ***   \n",
      "    *    \n"
     ]
    }
   ],
   "source": [
    "## write your program here\n",
    "size=int(input(\"Please tell me the size of diamond you want,it must be an odd number (for example:7):  \"))\n",
    "mid = size // 2\n",
    "for i in range(size):    \n",
    "    for j in range(size):\n",
    "        if i>=mid+1:\n",
    "            i= size-i-1\n",
    "        if mid-j > i or mid-j < -i :\n",
    "            print(\" \",end=\"\")\n",
    "        else:\n",
    "            print(\"*\",end=\"\")\n",
    "    print()\n"
   ]
  },
  {
   "cell_type": "markdown",
   "metadata": {},
   "source": [
    "12\\. Read the following program\n"
   ]
  },
  {
   "cell_type": "markdown",
   "metadata": {},
   "source": [
    "Please read following program,and find some rules.\n",
    "- 123456\n",
    "- 23456\n",
    "- 3456\n",
    "- 456\n",
    "- 56\n",
    "- 6"
   ]
  },
  {
   "cell_type": "code",
   "execution_count": 27,
   "metadata": {},
   "outputs": [
    {
     "name": "stdout",
     "output_type": "stream",
     "text": [
      "123456\n",
      "23456\n",
      "3456\n",
      "456\n",
      "56\n",
      "6\n"
     ]
    }
   ],
   "source": [
    "for i in range(1,7):\n",
    "    for j in range(i,7):\n",
    "        print(j,end=\"\")\n",
    "    print()"
   ]
  },
  {
   "cell_type": "markdown",
   "metadata": {},
   "source": [
    "Please look at the following rules, Using for loop nested output.\n",
    "- 123456\n",
    "- 234561\n",
    "- 345612\n",
    "- 456123\n",
    "- 561234\n",
    "- 612345"
   ]
  },
  {
   "cell_type": "code",
   "execution_count": 28,
   "metadata": {},
   "outputs": [
    {
     "name": "stdout",
     "output_type": "stream",
     "text": [
      "123456\n",
      "234561\n",
      "345612\n",
      "456123\n",
      "561234\n",
      "612345\n"
     ]
    }
   ],
   "source": [
    "## write your program here\n",
    "for i in range (1,7):\n",
    "    for j in range (i,6+i):\n",
    "        if j <= 6:\n",
    "            print (j,end=\"\")\n",
    "        else:\n",
    "            print(j-6,end=\"\")\n",
    "    print()"
   ]
  },
  {
   "cell_type": "markdown",
   "metadata": {},
   "source": [
    "13\\. Read the following program"
   ]
  },
  {
   "cell_type": "code",
   "execution_count": 29,
   "metadata": {},
   "outputs": [
    {
     "name": "stdout",
     "output_type": "stream",
     "text": [
      "Charles\n"
     ]
    }
   ],
   "source": [
    "#title()\n",
    "players = \"charles\"\n",
    "print(players.title())"
   ]
  },
  {
   "cell_type": "code",
   "execution_count": 30,
   "metadata": {
    "scrolled": true
   },
   "outputs": [
    {
     "name": "stdout",
     "output_type": "stream",
     "text": [
      "['martina', 'michael', 'florence']\n",
      "['charles', 'martina']\n",
      "['michael', 'florence', 'eli']\n",
      "['michael', 'florence']\n"
     ]
    }
   ],
   "source": [
    "# Slice\n",
    "players = ['charles','martina','michael','florence','eli']\n",
    "print(players[1:4])\n",
    "print(players[:2])\n",
    "print(players[2:])\n",
    "print(players[-3:-1])"
   ]
  },
  {
   "cell_type": "markdown",
   "metadata": {},
   "source": [
    "use the for loop to slice the list ,and The first letter of the output list is capitalized. $players = ['charles','martina','michael','florence','eli']$    For example Charles Martina ..."
   ]
  },
  {
   "cell_type": "code",
   "execution_count": 31,
   "metadata": {
    "scrolled": false
   },
   "outputs": [
    {
     "name": "stdout",
     "output_type": "stream",
     "text": [
      "You want to slice the list from position(0-4):1\n",
      "You want to slice the list until position(0-4):4\n",
      "['Martina', 'Michael', 'Florence', 'Eli']\n"
     ]
    }
   ],
   "source": [
    "## write your program here\n",
    "players=['charles','martina','michael','florence','eli']  \n",
    "x=int(input(\"You want to slice the list from position(0-4):\"))\n",
    "y=int(input(\"You want to slice the list until position(0-4):\"))\n",
    "def sliceByLoop(x,y):\n",
    "    newSlice=[]\n",
    "    for i in range (x,y+1):\n",
    "        newSlice.append(players[i].capitalize())\n",
    "    print(newSlice)\n",
    "sliceByLoop(x,y)"
   ]
  }
 ],
 "metadata": {
  "kernelspec": {
   "display_name": "Python [default]",
   "language": "python",
   "name": "python3"
  },
  "language_info": {
   "codemirror_mode": {
    "name": "ipython",
    "version": 3
   },
   "file_extension": ".py",
   "mimetype": "text/x-python",
   "name": "python",
   "nbconvert_exporter": "python",
   "pygments_lexer": "ipython3",
   "version": "3.6.6"
  }
 },
 "nbformat": 4,
 "nbformat_minor": 2
}
